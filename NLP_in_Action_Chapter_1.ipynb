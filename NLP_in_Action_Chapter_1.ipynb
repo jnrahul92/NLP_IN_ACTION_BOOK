{
  "nbformat": 4,
  "nbformat_minor": 0,
  "metadata": {
    "colab": {
      "provenance": [],
      "authorship_tag": "ABX9TyP9OzTbmGktsXCRZ4l6nEFT",
      "include_colab_link": true
    },
    "kernelspec": {
      "name": "python3",
      "display_name": "Python 3"
    },
    "language_info": {
      "name": "python"
    }
  },
  "cells": [
    {
      "cell_type": "markdown",
      "metadata": {
        "id": "view-in-github",
        "colab_type": "text"
      },
      "source": [
        "<a href=\"https://colab.research.google.com/github/jnrahul92/NLP_IN_ACTION_BOOK/blob/main/NLP_in_Action_Chapter_1.ipynb\" target=\"_parent\"><img src=\"https://colab.research.google.com/assets/colab-badge.svg\" alt=\"Open In Colab\"/></a>"
      ]
    },
    {
      "cell_type": "code",
      "execution_count": 1,
      "metadata": {
        "id": "XYjJlIRdnCqh"
      },
      "outputs": [],
      "source": [
        "import re"
      ]
    },
    {
      "cell_type": "code",
      "source": [
        "r = \"(hi|hello|hey)[ ]*([a-z]*)\""
      ],
      "metadata": {
        "id": "u90Y0sY4nO_U"
      },
      "execution_count": 8,
      "outputs": []
    },
    {
      "cell_type": "code",
      "source": [
        "re.match(r,\"Hello Rosa\", flags = re.IGNORECASE)"
      ],
      "metadata": {
        "colab": {
          "base_uri": "https://localhost:8080/"
        },
        "id": "QygN_rdDnZRv",
        "outputId": "841abf7f-c35f-441d-fc82-9ccdae583950"
      },
      "execution_count": 9,
      "outputs": [
        {
          "output_type": "execute_result",
          "data": {
            "text/plain": [
              "<re.Match object; span=(0, 10), match='Hello Rosa'>"
            ]
          },
          "metadata": {},
          "execution_count": 9
        }
      ]
    },
    {
      "cell_type": "code",
      "source": [
        "re.match(r,\"hi ho, it's off to work...\",flags = re.IGNORECASE)"
      ],
      "metadata": {
        "colab": {
          "base_uri": "https://localhost:8080/"
        },
        "id": "S-j4zfnvngGj",
        "outputId": "7f096d28-9256-4e63-e845-97d8bc881657"
      },
      "execution_count": 10,
      "outputs": [
        {
          "output_type": "execute_result",
          "data": {
            "text/plain": [
              "<re.Match object; span=(0, 5), match='hi ho'>"
            ]
          },
          "metadata": {},
          "execution_count": 10
        }
      ]
    },
    {
      "cell_type": "code",
      "source": [
        "re.match(r, \"hey, what's up\",flags = re.IGNORECASE)"
      ],
      "metadata": {
        "colab": {
          "base_uri": "https://localhost:8080/"
        },
        "id": "PeDo74rQno4_",
        "outputId": "76267d99-3416-48ec-a45c-46ce669a9be1"
      },
      "execution_count": 11,
      "outputs": [
        {
          "output_type": "execute_result",
          "data": {
            "text/plain": [
              "<re.Match object; span=(0, 3), match='hey'>"
            ]
          },
          "metadata": {},
          "execution_count": 11
        }
      ]
    },
    {
      "cell_type": "code",
      "source": [
        "r = r\"[^a-z]*([y]o|[h']?ello|ok|hey|(good[ ])?(morn[gin']{0,3}|\"\\\n",
        "r\"afternoon|even[gin']{0,3}))[\\s,;:]{1,3}([a-z]{1,20})\""
      ],
      "metadata": {
        "id": "siCPjFH9nw5f"
      },
      "execution_count": 36,
      "outputs": []
    },
    {
      "cell_type": "code",
      "source": [
        "re_greeting = re.compile(r,flags = re.IGNORECASE)"
      ],
      "metadata": {
        "id": "rx9zr7P2otiN"
      },
      "execution_count": 37,
      "outputs": []
    },
    {
      "cell_type": "code",
      "source": [
        "re_greeting.match('Hello Rosa')"
      ],
      "metadata": {
        "colab": {
          "base_uri": "https://localhost:8080/"
        },
        "id": "Pr4bHYihoy-_",
        "outputId": "4de453b8-8f92-4b00-fee2-ac6c2ca8cfe6"
      },
      "execution_count": 38,
      "outputs": [
        {
          "output_type": "execute_result",
          "data": {
            "text/plain": [
              "<re.Match object; span=(0, 10), match='Hello Rosa'>"
            ]
          },
          "metadata": {},
          "execution_count": 38
        }
      ]
    },
    {
      "cell_type": "code",
      "source": [
        "re_greeting.match('Hello Rosa').groups()"
      ],
      "metadata": {
        "colab": {
          "base_uri": "https://localhost:8080/"
        },
        "id": "je2lx4cRpQNO",
        "outputId": "3fa860d3-28c6-410d-de5b-881b8e3d3bb0"
      },
      "execution_count": 39,
      "outputs": [
        {
          "output_type": "execute_result",
          "data": {
            "text/plain": [
              "('Hello', None, None, 'Rosa')"
            ]
          },
          "metadata": {},
          "execution_count": 39
        }
      ]
    },
    {
      "cell_type": "code",
      "source": [
        "re_greeting.match(\"Good morning Rosa\")"
      ],
      "metadata": {
        "colab": {
          "base_uri": "https://localhost:8080/"
        },
        "id": "_HumHg88qEfH",
        "outputId": "93b6aa7e-cd3e-4541-b8e0-495054454283"
      },
      "execution_count": 40,
      "outputs": [
        {
          "output_type": "execute_result",
          "data": {
            "text/plain": [
              "<re.Match object; span=(0, 17), match='Good morning Rosa'>"
            ]
          },
          "metadata": {},
          "execution_count": 40
        }
      ]
    },
    {
      "cell_type": "code",
      "source": [
        "re_greeting.match(\"Good evening Rosa Parks\").groups()"
      ],
      "metadata": {
        "colab": {
          "base_uri": "https://localhost:8080/"
        },
        "id": "J6AFmpRZqKZU",
        "outputId": "7f8cd4c4-387b-40c7-9b29-4aa181687b72"
      },
      "execution_count": 42,
      "outputs": [
        {
          "output_type": "execute_result",
          "data": {
            "text/plain": [
              "('Good evening', 'Good ', 'evening', 'Rosa')"
            ]
          },
          "metadata": {},
          "execution_count": 42
        }
      ]
    },
    {
      "cell_type": "code",
      "source": [
        "re_greeting.match(\"Good morn'n Rosa Parks\")"
      ],
      "metadata": {
        "colab": {
          "base_uri": "https://localhost:8080/"
        },
        "id": "iPnse6YDqQBY",
        "outputId": "6dc339f2-bda3-4d6f-a4a6-a81ac836ede0"
      },
      "execution_count": 45,
      "outputs": [
        {
          "output_type": "execute_result",
          "data": {
            "text/plain": [
              "<re.Match object; span=(0, 16), match=\"Good morn'n Rosa\">"
            ]
          },
          "metadata": {},
          "execution_count": 45
        }
      ]
    },
    {
      "cell_type": "code",
      "source": [
        "re_greeting.match(\"yo Rosa\")"
      ],
      "metadata": {
        "colab": {
          "base_uri": "https://localhost:8080/"
        },
        "id": "Qr-R1v-9qbHn",
        "outputId": "4846ad20-e43b-4494-ae9a-d108561f7a85"
      },
      "execution_count": 46,
      "outputs": [
        {
          "output_type": "execute_result",
          "data": {
            "text/plain": [
              "<re.Match object; span=(0, 7), match='yo Rosa'>"
            ]
          },
          "metadata": {},
          "execution_count": 46
        }
      ]
    },
    {
      "cell_type": "code",
      "source": [
        "my_names = set(['rosa','rose','chatty','chatbot','bot','chatterbot'])\n",
        "curt_names = set(['hal','you','u'])\n",
        "greeter_name = ''\n",
        "match = re_greeting.match(input())\n",
        "\n",
        "if match:\n",
        "  at_name = match.groups()[-1]\n",
        "if at_name in curt_names:\n",
        "  print(\"Good one.\")\n",
        "elif at_name.lower() in my_names:\n",
        "  print(\"Hi {}, How are you?\".format(greeter_name))"
      ],
      "metadata": {
        "colab": {
          "base_uri": "https://localhost:8080/"
        },
        "id": "wnTsOI18qikD",
        "outputId": "28ed2c5f-ed66-49ea-bf24-bc81336f8682"
      },
      "execution_count": 47,
      "outputs": [
        {
          "output_type": "stream",
          "name": "stdout",
          "text": [
            "Hello Rosa\n",
            "Hi , How are you?\n"
          ]
        }
      ]
    },
    {
      "cell_type": "code",
      "source": [
        "from collections import Counter"
      ],
      "metadata": {
        "id": "wMPc0N0zrZmw"
      },
      "execution_count": 48,
      "outputs": []
    },
    {
      "cell_type": "code",
      "source": [
        "Counter(\"Guten Morgen Rosa\".split())"
      ],
      "metadata": {
        "colab": {
          "base_uri": "https://localhost:8080/"
        },
        "id": "ieaZybbRtRIg",
        "outputId": "5d9eca47-acf2-4808-d79d-38f8137f6649"
      },
      "execution_count": 49,
      "outputs": [
        {
          "output_type": "execute_result",
          "data": {
            "text/plain": [
              "Counter({'Guten': 1, 'Morgen': 1, 'Rosa': 1})"
            ]
          },
          "metadata": {},
          "execution_count": 49
        }
      ]
    },
    {
      "cell_type": "code",
      "source": [
        "from itertools import permutations"
      ],
      "metadata": {
        "id": "qV7tGpiVtXCw"
      },
      "execution_count": 50,
      "outputs": []
    },
    {
      "cell_type": "code",
      "source": [
        "[\" \".join(combo) for combo in permutations(\"Good Morning Rosa\".split(),3)]"
      ],
      "metadata": {
        "colab": {
          "base_uri": "https://localhost:8080/"
        },
        "id": "5gYUhfuhuxoQ",
        "outputId": "7d095f96-1dd0-4ac5-eff3-c49a1e5489e6"
      },
      "execution_count": 51,
      "outputs": [
        {
          "output_type": "execute_result",
          "data": {
            "text/plain": [
              "['Good Morning Rosa',\n",
              " 'Good Rosa Morning',\n",
              " 'Morning Good Rosa',\n",
              " 'Morning Rosa Good',\n",
              " 'Rosa Good Morning',\n",
              " 'Rosa Morning Good']"
            ]
          },
          "metadata": {},
          "execution_count": 51
        }
      ]
    },
    {
      "cell_type": "code",
      "source": [],
      "metadata": {
        "id": "CFq6tUH5u-Ae"
      },
      "execution_count": 52,
      "outputs": []
    },
    {
      "cell_type": "markdown",
      "source": [
        "**Summary**\n",
        "* Good NLP may help save the world.\n",
        "* The meaning and intent of words can be deciphered by machines.\n",
        "*A smart NLP pipeline will be able to deal with ambiguity.\n",
        "* We can teach machines common sense knowledge without spending a lifetime training them.\n",
        "*Chatbots can be thought of as semantic search engines.\n",
        "* Regular experessions are useful for more than just search."
      ],
      "metadata": {
        "id": "wNHosQMLygN-"
      }
    },
    {
      "cell_type": "code",
      "source": [],
      "metadata": {
        "id": "5HNc_EjoyZ9-"
      },
      "execution_count": null,
      "outputs": []
    }
  ]
}