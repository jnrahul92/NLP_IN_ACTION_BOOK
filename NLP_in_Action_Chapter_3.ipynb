{
  "nbformat": 4,
  "nbformat_minor": 0,
  "metadata": {
    "colab": {
      "provenance": [],
      "authorship_tag": "ABX9TyM1tNlqS2W2JSRaAKyFIL1x",
      "include_colab_link": true
    },
    "kernelspec": {
      "name": "python3",
      "display_name": "Python 3"
    },
    "language_info": {
      "name": "python"
    }
  },
  "cells": [
    {
      "cell_type": "markdown",
      "metadata": {
        "id": "view-in-github",
        "colab_type": "text"
      },
      "source": [
        "<a href=\"https://colab.research.google.com/github/jnrahul92/NLP_IN_ACTION_BOOK/blob/main/NLP_in_Action_Chapter_3.ipynb\" target=\"_parent\"><img src=\"https://colab.research.google.com/assets/colab-badge.svg\" alt=\"Open In Colab\"/></a>"
      ]
    },
    {
      "cell_type": "code",
      "execution_count": 1,
      "metadata": {
        "id": "1ISAjMnRmD1i"
      },
      "outputs": [],
      "source": [
        "from nltk.tokenize import TreebankWordTokenizer"
      ]
    },
    {
      "cell_type": "code",
      "source": [
        "sentence = \"\"\"The faster Harry got to the store, the faster Harry, the faster, would get home.\"\"\""
      ],
      "metadata": {
        "id": "7OsxAbramN-W"
      },
      "execution_count": 2,
      "outputs": []
    },
    {
      "cell_type": "code",
      "source": [
        "tokenizer = TreebankWordTokenizer()"
      ],
      "metadata": {
        "id": "ZjNJ8gaPmZP_"
      },
      "execution_count": 3,
      "outputs": []
    },
    {
      "cell_type": "code",
      "source": [
        "tokens = tokenizer.tokenize(sentence.lower())"
      ],
      "metadata": {
        "id": "tVBunZlwmb_W"
      },
      "execution_count": 4,
      "outputs": []
    },
    {
      "cell_type": "code",
      "source": [
        "tokens"
      ],
      "metadata": {
        "colab": {
          "base_uri": "https://localhost:8080/"
        },
        "id": "1BUUDqjUmhTa",
        "outputId": "9e619823-9f1a-4d19-fbc4-47d2beaff5c2"
      },
      "execution_count": 5,
      "outputs": [
        {
          "output_type": "execute_result",
          "data": {
            "text/plain": [
              "['the',\n",
              " 'faster',\n",
              " 'harry',\n",
              " 'got',\n",
              " 'to',\n",
              " 'the',\n",
              " 'store',\n",
              " ',',\n",
              " 'the',\n",
              " 'faster',\n",
              " 'harry',\n",
              " ',',\n",
              " 'the',\n",
              " 'faster',\n",
              " ',',\n",
              " 'would',\n",
              " 'get',\n",
              " 'home',\n",
              " '.']"
            ]
          },
          "metadata": {},
          "execution_count": 5
        }
      ]
    },
    {
      "cell_type": "code",
      "source": [
        "from collections import Counter"
      ],
      "metadata": {
        "id": "5Phnm8_3mkUQ"
      },
      "execution_count": 6,
      "outputs": []
    },
    {
      "cell_type": "code",
      "source": [
        "bag_of_words = Counter(tokens)"
      ],
      "metadata": {
        "id": "aTCRg2o_mqfc"
      },
      "execution_count": 8,
      "outputs": []
    },
    {
      "cell_type": "code",
      "source": [
        "bag_of_words"
      ],
      "metadata": {
        "colab": {
          "base_uri": "https://localhost:8080/"
        },
        "id": "O3RK4iWSmtA_",
        "outputId": "4a5f2ac4-c2f6-47e2-87e3-51d924a45994"
      },
      "execution_count": 9,
      "outputs": [
        {
          "output_type": "execute_result",
          "data": {
            "text/plain": [
              "Counter({'the': 4,\n",
              "         'faster': 3,\n",
              "         'harry': 2,\n",
              "         'got': 1,\n",
              "         'to': 1,\n",
              "         'store': 1,\n",
              "         ',': 3,\n",
              "         'would': 1,\n",
              "         'get': 1,\n",
              "         'home': 1,\n",
              "         '.': 1})"
            ]
          },
          "metadata": {},
          "execution_count": 9
        }
      ]
    },
    {
      "cell_type": "code",
      "source": [
        "bag_of_words.most_common(4)"
      ],
      "metadata": {
        "colab": {
          "base_uri": "https://localhost:8080/"
        },
        "id": "cw3cQXZgmvwR",
        "outputId": "622b4560-9a37-4404-8e62-e3c51d69fe87"
      },
      "execution_count": 10,
      "outputs": [
        {
          "output_type": "execute_result",
          "data": {
            "text/plain": [
              "[('the', 4), ('faster', 3), (',', 3), ('harry', 2)]"
            ]
          },
          "metadata": {},
          "execution_count": 10
        }
      ]
    },
    {
      "cell_type": "code",
      "source": [
        "times_harry_appears = bag_of_words[\"harry\"]\n",
        "num_unique_words = len(bag_of_words)"
      ],
      "metadata": {
        "id": "RuPeRp2Wm9_Z"
      },
      "execution_count": 11,
      "outputs": []
    },
    {
      "cell_type": "code",
      "source": [
        "tf = times_harry_appears/num_unique_words"
      ],
      "metadata": {
        "id": "DAL3LwhFnQhb"
      },
      "execution_count": 12,
      "outputs": []
    },
    {
      "cell_type": "code",
      "source": [
        "round(tf,4)"
      ],
      "metadata": {
        "colab": {
          "base_uri": "https://localhost:8080/"
        },
        "id": "mFVQ02SbnVBF",
        "outputId": "09edfe90-7e5e-4213-a338-ab68528e8c19"
      },
      "execution_count": 13,
      "outputs": [
        {
          "output_type": "execute_result",
          "data": {
            "text/plain": [
              "0.1818"
            ]
          },
          "metadata": {},
          "execution_count": 13
        }
      ]
    },
    {
      "cell_type": "code",
      "source": [
        "kite_text = \"\"\"A kite is a tethered heavier-than-air or lighter-than-air craft with wing surfaces that react against the air to create lift and drag forces. A kite consists of wings, tethers and anchors. Kites often have a bridle and tail to guide the face of the kite so the wind can lift it. Some kite designs do not need a bridle; box kites can have a single attachment point. A kite may have fixed or moving anchors that can balance the kite. The name is derived from the kite, the hovering bird of prey.\n",
        "\n",
        "The lift that sustains the kite in flight is generated when air moves around the kite's surface, producing low pressure above and high pressure below the wings. The interaction with the wind also generates horizontal drag along the direction of the wind. The resultant force vector from the lift and drag force components is opposed by the tension of one or more of the lines or tethers to which the kite is attached.The anchor point of the kite line may be static or moving (e.g., the towing of a kite by a running person, boat, free-falling anchors as in paragliders and fugitive parakites or vehicle).\n",
        "\n",
        "The same principles of fluid flow apply in liquids, so kites can be used in underwater currents. Paravanes and otter boards operate underwater on an analogous principle.\n",
        "\n",
        "Man-lifting kites were made for reconnaissance, entertainment and during development of the first practical aircraft, the biplane.\n",
        "\n",
        "Kites have a long and varied history and many different types are flown individually and at festivals worldwide. Kites may be flown for recreation, art or other practical uses. Sport kites can be flown in aerial ballet, sometimes as part of a competition. Power kites are multi-line steerable kites designed to generate large forces which can be used to power activities such as kite surfing, kite landboarding, kite buggying and snow kiting.\n",
        "\n",
        "\"\"\""
      ],
      "metadata": {
        "id": "8fVo6nG6nWS_"
      },
      "execution_count": 14,
      "outputs": []
    },
    {
      "cell_type": "code",
      "source": [
        "tokens = tokenizer.tokenize(kite_text.lower())\n",
        "token_counts = Counter(tokens)"
      ],
      "metadata": {
        "id": "NHrYw5cJoHJ4"
      },
      "execution_count": 15,
      "outputs": []
    },
    {
      "cell_type": "code",
      "source": [
        "token_counts"
      ],
      "metadata": {
        "colab": {
          "base_uri": "https://localhost:8080/"
        },
        "id": "YXQMpZhUoTT2",
        "outputId": "4a5aaec3-e14c-4f77-d474-03db067ac85a"
      },
      "execution_count": 16,
      "outputs": [
        {
          "output_type": "execute_result",
          "data": {
            "text/plain": [
              "Counter({'a': 11,\n",
              "         'kite': 14,\n",
              "         'is': 5,\n",
              "         'tethered': 1,\n",
              "         'heavier-than-air': 1,\n",
              "         'or': 7,\n",
              "         'lighter-than-air': 1,\n",
              "         'craft': 1,\n",
              "         'with': 2,\n",
              "         'wing': 1,\n",
              "         'surfaces': 1,\n",
              "         'that': 3,\n",
              "         'react': 1,\n",
              "         'against': 1,\n",
              "         'the': 26,\n",
              "         'air': 2,\n",
              "         'to': 5,\n",
              "         'create': 1,\n",
              "         'lift': 4,\n",
              "         'and': 12,\n",
              "         'drag': 3,\n",
              "         'forces.': 1,\n",
              "         'consists': 1,\n",
              "         'of': 11,\n",
              "         'wings': 1,\n",
              "         ',': 13,\n",
              "         'tethers': 2,\n",
              "         'anchors.': 1,\n",
              "         'kites': 9,\n",
              "         'often': 1,\n",
              "         'have': 4,\n",
              "         'bridle': 2,\n",
              "         'tail': 1,\n",
              "         'guide': 1,\n",
              "         'face': 1,\n",
              "         'so': 2,\n",
              "         'wind': 2,\n",
              "         'can': 6,\n",
              "         'it.': 1,\n",
              "         'some': 1,\n",
              "         'designs': 1,\n",
              "         'do': 1,\n",
              "         'not': 1,\n",
              "         'need': 1,\n",
              "         ';': 1,\n",
              "         'box': 1,\n",
              "         'single': 1,\n",
              "         'attachment': 1,\n",
              "         'point.': 1,\n",
              "         'may': 3,\n",
              "         'fixed': 1,\n",
              "         'moving': 2,\n",
              "         'anchors': 2,\n",
              "         'balance': 1,\n",
              "         'kite.': 1,\n",
              "         'name': 1,\n",
              "         'derived': 1,\n",
              "         'from': 2,\n",
              "         'hovering': 1,\n",
              "         'bird': 1,\n",
              "         'prey.': 1,\n",
              "         'sustains': 1,\n",
              "         'in': 5,\n",
              "         'flight': 1,\n",
              "         'generated': 1,\n",
              "         'when': 1,\n",
              "         'moves': 1,\n",
              "         'around': 1,\n",
              "         \"'s\": 1,\n",
              "         'surface': 1,\n",
              "         'producing': 1,\n",
              "         'low': 1,\n",
              "         'pressure': 2,\n",
              "         'above': 1,\n",
              "         'high': 1,\n",
              "         'below': 1,\n",
              "         'wings.': 1,\n",
              "         'interaction': 1,\n",
              "         'also': 1,\n",
              "         'generates': 1,\n",
              "         'horizontal': 1,\n",
              "         'along': 1,\n",
              "         'direction': 1,\n",
              "         'wind.': 1,\n",
              "         'resultant': 1,\n",
              "         'force': 2,\n",
              "         'vector': 1,\n",
              "         'components': 1,\n",
              "         'opposed': 1,\n",
              "         'by': 2,\n",
              "         'tension': 1,\n",
              "         'one': 1,\n",
              "         'more': 1,\n",
              "         'lines': 1,\n",
              "         'which': 2,\n",
              "         'attached.the': 1,\n",
              "         'anchor': 1,\n",
              "         'point': 1,\n",
              "         'line': 1,\n",
              "         'be': 5,\n",
              "         'static': 1,\n",
              "         '(': 1,\n",
              "         'e.g.': 1,\n",
              "         'towing': 1,\n",
              "         'running': 1,\n",
              "         'person': 1,\n",
              "         'boat': 1,\n",
              "         'free-falling': 1,\n",
              "         'as': 3,\n",
              "         'paragliders': 1,\n",
              "         'fugitive': 1,\n",
              "         'parakites': 1,\n",
              "         'vehicle': 1,\n",
              "         ')': 1,\n",
              "         '.': 2,\n",
              "         'same': 1,\n",
              "         'principles': 1,\n",
              "         'fluid': 1,\n",
              "         'flow': 1,\n",
              "         'apply': 1,\n",
              "         'liquids': 1,\n",
              "         'used': 2,\n",
              "         'underwater': 2,\n",
              "         'currents.': 1,\n",
              "         'paravanes': 1,\n",
              "         'otter': 1,\n",
              "         'boards': 1,\n",
              "         'operate': 1,\n",
              "         'on': 1,\n",
              "         'an': 1,\n",
              "         'analogous': 1,\n",
              "         'principle.': 1,\n",
              "         'man-lifting': 1,\n",
              "         'were': 1,\n",
              "         'made': 1,\n",
              "         'for': 2,\n",
              "         'reconnaissance': 1,\n",
              "         'entertainment': 1,\n",
              "         'during': 1,\n",
              "         'development': 1,\n",
              "         'first': 1,\n",
              "         'practical': 2,\n",
              "         'aircraft': 1,\n",
              "         'biplane.': 1,\n",
              "         'long': 1,\n",
              "         'varied': 1,\n",
              "         'history': 1,\n",
              "         'many': 1,\n",
              "         'different': 1,\n",
              "         'types': 1,\n",
              "         'are': 2,\n",
              "         'flown': 3,\n",
              "         'individually': 1,\n",
              "         'at': 1,\n",
              "         'festivals': 1,\n",
              "         'worldwide.': 1,\n",
              "         'recreation': 1,\n",
              "         'art': 1,\n",
              "         'other': 1,\n",
              "         'uses.': 1,\n",
              "         'sport': 1,\n",
              "         'aerial': 1,\n",
              "         'ballet': 1,\n",
              "         'sometimes': 1,\n",
              "         'part': 1,\n",
              "         'competition.': 1,\n",
              "         'power': 2,\n",
              "         'multi-line': 1,\n",
              "         'steerable': 1,\n",
              "         'designed': 1,\n",
              "         'generate': 1,\n",
              "         'large': 1,\n",
              "         'forces': 1,\n",
              "         'activities': 1,\n",
              "         'such': 1,\n",
              "         'surfing': 1,\n",
              "         'landboarding': 1,\n",
              "         'buggying': 1,\n",
              "         'snow': 1,\n",
              "         'kiting': 1})"
            ]
          },
          "metadata": {},
          "execution_count": 16
        }
      ]
    },
    {
      "cell_type": "code",
      "source": [
        "import nltk\n",
        "nltk.download('stopwords',quiet = True)"
      ],
      "metadata": {
        "colab": {
          "base_uri": "https://localhost:8080/"
        },
        "id": "AaAqDU_yoU4o",
        "outputId": "b943f9fe-7947-49b1-8027-655da4cea761"
      },
      "execution_count": 18,
      "outputs": [
        {
          "output_type": "execute_result",
          "data": {
            "text/plain": [
              "True"
            ]
          },
          "metadata": {},
          "execution_count": 18
        }
      ]
    },
    {
      "cell_type": "code",
      "source": [
        "stopwords = nltk.corpus.stopwords.words('english')"
      ],
      "metadata": {
        "id": "rm0P90Svoi0w"
      },
      "execution_count": 19,
      "outputs": []
    },
    {
      "cell_type": "code",
      "source": [
        "tokens = [x for x in tokens if x not in stopwords]"
      ],
      "metadata": {
        "id": "BEd72YCKorG5"
      },
      "execution_count": 20,
      "outputs": []
    },
    {
      "cell_type": "code",
      "source": [
        "kite_counts = Counter(tokens)"
      ],
      "metadata": {
        "id": "kzQJgsJfovcM"
      },
      "execution_count": 21,
      "outputs": []
    },
    {
      "cell_type": "code",
      "source": [
        "kite_counts"
      ],
      "metadata": {
        "colab": {
          "base_uri": "https://localhost:8080/"
        },
        "id": "P66Z1ffIoybh",
        "outputId": "984b729f-ccfb-4147-bea3-b22c71a86e10"
      },
      "execution_count": 22,
      "outputs": [
        {
          "output_type": "execute_result",
          "data": {
            "text/plain": [
              "Counter({'kite': 14,\n",
              "         'tethered': 1,\n",
              "         'heavier-than-air': 1,\n",
              "         'lighter-than-air': 1,\n",
              "         'craft': 1,\n",
              "         'wing': 1,\n",
              "         'surfaces': 1,\n",
              "         'react': 1,\n",
              "         'air': 2,\n",
              "         'create': 1,\n",
              "         'lift': 4,\n",
              "         'drag': 3,\n",
              "         'forces.': 1,\n",
              "         'consists': 1,\n",
              "         'wings': 1,\n",
              "         ',': 13,\n",
              "         'tethers': 2,\n",
              "         'anchors.': 1,\n",
              "         'kites': 9,\n",
              "         'often': 1,\n",
              "         'bridle': 2,\n",
              "         'tail': 1,\n",
              "         'guide': 1,\n",
              "         'face': 1,\n",
              "         'wind': 2,\n",
              "         'it.': 1,\n",
              "         'designs': 1,\n",
              "         'need': 1,\n",
              "         ';': 1,\n",
              "         'box': 1,\n",
              "         'single': 1,\n",
              "         'attachment': 1,\n",
              "         'point.': 1,\n",
              "         'may': 3,\n",
              "         'fixed': 1,\n",
              "         'moving': 2,\n",
              "         'anchors': 2,\n",
              "         'balance': 1,\n",
              "         'kite.': 1,\n",
              "         'name': 1,\n",
              "         'derived': 1,\n",
              "         'hovering': 1,\n",
              "         'bird': 1,\n",
              "         'prey.': 1,\n",
              "         'sustains': 1,\n",
              "         'flight': 1,\n",
              "         'generated': 1,\n",
              "         'moves': 1,\n",
              "         'around': 1,\n",
              "         \"'s\": 1,\n",
              "         'surface': 1,\n",
              "         'producing': 1,\n",
              "         'low': 1,\n",
              "         'pressure': 2,\n",
              "         'high': 1,\n",
              "         'wings.': 1,\n",
              "         'interaction': 1,\n",
              "         'also': 1,\n",
              "         'generates': 1,\n",
              "         'horizontal': 1,\n",
              "         'along': 1,\n",
              "         'direction': 1,\n",
              "         'wind.': 1,\n",
              "         'resultant': 1,\n",
              "         'force': 2,\n",
              "         'vector': 1,\n",
              "         'components': 1,\n",
              "         'opposed': 1,\n",
              "         'tension': 1,\n",
              "         'one': 1,\n",
              "         'lines': 1,\n",
              "         'attached.the': 1,\n",
              "         'anchor': 1,\n",
              "         'point': 1,\n",
              "         'line': 1,\n",
              "         'static': 1,\n",
              "         '(': 1,\n",
              "         'e.g.': 1,\n",
              "         'towing': 1,\n",
              "         'running': 1,\n",
              "         'person': 1,\n",
              "         'boat': 1,\n",
              "         'free-falling': 1,\n",
              "         'paragliders': 1,\n",
              "         'fugitive': 1,\n",
              "         'parakites': 1,\n",
              "         'vehicle': 1,\n",
              "         ')': 1,\n",
              "         '.': 2,\n",
              "         'principles': 1,\n",
              "         'fluid': 1,\n",
              "         'flow': 1,\n",
              "         'apply': 1,\n",
              "         'liquids': 1,\n",
              "         'used': 2,\n",
              "         'underwater': 2,\n",
              "         'currents.': 1,\n",
              "         'paravanes': 1,\n",
              "         'otter': 1,\n",
              "         'boards': 1,\n",
              "         'operate': 1,\n",
              "         'analogous': 1,\n",
              "         'principle.': 1,\n",
              "         'man-lifting': 1,\n",
              "         'made': 1,\n",
              "         'reconnaissance': 1,\n",
              "         'entertainment': 1,\n",
              "         'development': 1,\n",
              "         'first': 1,\n",
              "         'practical': 2,\n",
              "         'aircraft': 1,\n",
              "         'biplane.': 1,\n",
              "         'long': 1,\n",
              "         'varied': 1,\n",
              "         'history': 1,\n",
              "         'many': 1,\n",
              "         'different': 1,\n",
              "         'types': 1,\n",
              "         'flown': 3,\n",
              "         'individually': 1,\n",
              "         'festivals': 1,\n",
              "         'worldwide.': 1,\n",
              "         'recreation': 1,\n",
              "         'art': 1,\n",
              "         'uses.': 1,\n",
              "         'sport': 1,\n",
              "         'aerial': 1,\n",
              "         'ballet': 1,\n",
              "         'sometimes': 1,\n",
              "         'part': 1,\n",
              "         'competition.': 1,\n",
              "         'power': 2,\n",
              "         'multi-line': 1,\n",
              "         'steerable': 1,\n",
              "         'designed': 1,\n",
              "         'generate': 1,\n",
              "         'large': 1,\n",
              "         'forces': 1,\n",
              "         'activities': 1,\n",
              "         'surfing': 1,\n",
              "         'landboarding': 1,\n",
              "         'buggying': 1,\n",
              "         'snow': 1,\n",
              "         'kiting': 1})"
            ]
          },
          "metadata": {},
          "execution_count": 22
        }
      ]
    },
    {
      "cell_type": "code",
      "source": [
        "document_vector = []\n",
        "doc_length = len(tokens)\n",
        "\n",
        "for key, value in kite_counts.most_common():\n",
        "  document_vector.append(value/doc_length)"
      ],
      "metadata": {
        "id": "9H-uPQw3ozkD"
      },
      "execution_count": 24,
      "outputs": []
    },
    {
      "cell_type": "code",
      "source": [
        "document_vector"
      ],
      "metadata": {
        "colab": {
          "base_uri": "https://localhost:8080/"
        },
        "id": "ZquzeHGmpMHb",
        "outputId": "2a9c26f0-57f5-4a56-b2b2-186d490c2118"
      },
      "execution_count": 25,
      "outputs": [
        {
          "output_type": "execute_result",
          "data": {
            "text/plain": [
              "[0.07035175879396985,\n",
              " 0.06532663316582915,\n",
              " 0.04522613065326633,\n",
              " 0.020100502512562814,\n",
              " 0.01507537688442211,\n",
              " 0.01507537688442211,\n",
              " 0.01507537688442211,\n",
              " 0.010050251256281407,\n",
              " 0.010050251256281407,\n",
              " 0.010050251256281407,\n",
              " 0.010050251256281407,\n",
              " 0.010050251256281407,\n",
              " 0.010050251256281407,\n",
              " 0.010050251256281407,\n",
              " 0.010050251256281407,\n",
              " 0.010050251256281407,\n",
              " 0.010050251256281407,\n",
              " 0.010050251256281407,\n",
              " 0.010050251256281407,\n",
              " 0.010050251256281407,\n",
              " 0.005025125628140704,\n",
              " 0.005025125628140704,\n",
              " 0.005025125628140704,\n",
              " 0.005025125628140704,\n",
              " 0.005025125628140704,\n",
              " 0.005025125628140704,\n",
              " 0.005025125628140704,\n",
              " 0.005025125628140704,\n",
              " 0.005025125628140704,\n",
              " 0.005025125628140704,\n",
              " 0.005025125628140704,\n",
              " 0.005025125628140704,\n",
              " 0.005025125628140704,\n",
              " 0.005025125628140704,\n",
              " 0.005025125628140704,\n",
              " 0.005025125628140704,\n",
              " 0.005025125628140704,\n",
              " 0.005025125628140704,\n",
              " 0.005025125628140704,\n",
              " 0.005025125628140704,\n",
              " 0.005025125628140704,\n",
              " 0.005025125628140704,\n",
              " 0.005025125628140704,\n",
              " 0.005025125628140704,\n",
              " 0.005025125628140704,\n",
              " 0.005025125628140704,\n",
              " 0.005025125628140704,\n",
              " 0.005025125628140704,\n",
              " 0.005025125628140704,\n",
              " 0.005025125628140704,\n",
              " 0.005025125628140704,\n",
              " 0.005025125628140704,\n",
              " 0.005025125628140704,\n",
              " 0.005025125628140704,\n",
              " 0.005025125628140704,\n",
              " 0.005025125628140704,\n",
              " 0.005025125628140704,\n",
              " 0.005025125628140704,\n",
              " 0.005025125628140704,\n",
              " 0.005025125628140704,\n",
              " 0.005025125628140704,\n",
              " 0.005025125628140704,\n",
              " 0.005025125628140704,\n",
              " 0.005025125628140704,\n",
              " 0.005025125628140704,\n",
              " 0.005025125628140704,\n",
              " 0.005025125628140704,\n",
              " 0.005025125628140704,\n",
              " 0.005025125628140704,\n",
              " 0.005025125628140704,\n",
              " 0.005025125628140704,\n",
              " 0.005025125628140704,\n",
              " 0.005025125628140704,\n",
              " 0.005025125628140704,\n",
              " 0.005025125628140704,\n",
              " 0.005025125628140704,\n",
              " 0.005025125628140704,\n",
              " 0.005025125628140704,\n",
              " 0.005025125628140704,\n",
              " 0.005025125628140704,\n",
              " 0.005025125628140704,\n",
              " 0.005025125628140704,\n",
              " 0.005025125628140704,\n",
              " 0.005025125628140704,\n",
              " 0.005025125628140704,\n",
              " 0.005025125628140704,\n",
              " 0.005025125628140704,\n",
              " 0.005025125628140704,\n",
              " 0.005025125628140704,\n",
              " 0.005025125628140704,\n",
              " 0.005025125628140704,\n",
              " 0.005025125628140704,\n",
              " 0.005025125628140704,\n",
              " 0.005025125628140704,\n",
              " 0.005025125628140704,\n",
              " 0.005025125628140704,\n",
              " 0.005025125628140704,\n",
              " 0.005025125628140704,\n",
              " 0.005025125628140704,\n",
              " 0.005025125628140704,\n",
              " 0.005025125628140704,\n",
              " 0.005025125628140704,\n",
              " 0.005025125628140704,\n",
              " 0.005025125628140704,\n",
              " 0.005025125628140704,\n",
              " 0.005025125628140704,\n",
              " 0.005025125628140704,\n",
              " 0.005025125628140704,\n",
              " 0.005025125628140704,\n",
              " 0.005025125628140704,\n",
              " 0.005025125628140704,\n",
              " 0.005025125628140704,\n",
              " 0.005025125628140704,\n",
              " 0.005025125628140704,\n",
              " 0.005025125628140704,\n",
              " 0.005025125628140704,\n",
              " 0.005025125628140704,\n",
              " 0.005025125628140704,\n",
              " 0.005025125628140704,\n",
              " 0.005025125628140704,\n",
              " 0.005025125628140704,\n",
              " 0.005025125628140704,\n",
              " 0.005025125628140704,\n",
              " 0.005025125628140704,\n",
              " 0.005025125628140704,\n",
              " 0.005025125628140704,\n",
              " 0.005025125628140704,\n",
              " 0.005025125628140704,\n",
              " 0.005025125628140704,\n",
              " 0.005025125628140704,\n",
              " 0.005025125628140704,\n",
              " 0.005025125628140704,\n",
              " 0.005025125628140704,\n",
              " 0.005025125628140704,\n",
              " 0.005025125628140704,\n",
              " 0.005025125628140704,\n",
              " 0.005025125628140704,\n",
              " 0.005025125628140704,\n",
              " 0.005025125628140704,\n",
              " 0.005025125628140704,\n",
              " 0.005025125628140704,\n",
              " 0.005025125628140704,\n",
              " 0.005025125628140704,\n",
              " 0.005025125628140704]"
            ]
          },
          "metadata": {},
          "execution_count": 25
        }
      ]
    },
    {
      "cell_type": "code",
      "source": [
        "docs = [\"The faster Harry got to the store, the faster and faster Harry would get home.\"]\n",
        "docs.append(\"Harry is hairy and faster than Jill.\")\n",
        "docs.append(\"Jill is not as hairy as Harry.\")"
      ],
      "metadata": {
        "id": "ysTcajLvpQIY"
      },
      "execution_count": 28,
      "outputs": []
    },
    {
      "cell_type": "code",
      "source": [
        "doc_tokens = []"
      ],
      "metadata": {
        "id": "edDTCBzopXk_"
      },
      "execution_count": 29,
      "outputs": []
    },
    {
      "cell_type": "code",
      "source": [
        "for doc in docs:\n",
        "  doc_tokens += [sorted(tokenizer.tokenize(doc.lower()))]"
      ],
      "metadata": {
        "id": "E3DbvHUSqD0Z"
      },
      "execution_count": 32,
      "outputs": []
    },
    {
      "cell_type": "code",
      "source": [
        "len(doc_tokens[0])"
      ],
      "metadata": {
        "colab": {
          "base_uri": "https://localhost:8080/"
        },
        "id": "VeZNY8jSqMa0",
        "outputId": "387e8aed-19b2-4739-a7bb-b3d8c5cf6eab"
      },
      "execution_count": 34,
      "outputs": [
        {
          "output_type": "execute_result",
          "data": {
            "text/plain": [
              "17"
            ]
          },
          "metadata": {},
          "execution_count": 34
        }
      ]
    },
    {
      "cell_type": "code",
      "source": [
        "all_doc_tokens = sum(doc_tokens,[])"
      ],
      "metadata": {
        "id": "t4bvQbq5qT8C"
      },
      "execution_count": 35,
      "outputs": []
    },
    {
      "cell_type": "code",
      "source": [
        "len(all_doc_tokens)"
      ],
      "metadata": {
        "colab": {
          "base_uri": "https://localhost:8080/"
        },
        "id": "7hr6TRl4qdkP",
        "outputId": "c6b3845a-a9c3-4d88-c5aa-a26cdcc0efaa"
      },
      "execution_count": 37,
      "outputs": [
        {
          "output_type": "execute_result",
          "data": {
            "text/plain": [
              "33"
            ]
          },
          "metadata": {},
          "execution_count": 37
        }
      ]
    },
    {
      "cell_type": "code",
      "source": [
        "lexicon = sorted(set(all_doc_tokens))"
      ],
      "metadata": {
        "id": "ilEs53hzqf9n"
      },
      "execution_count": 38,
      "outputs": []
    },
    {
      "cell_type": "code",
      "source": [
        "len(lexicon)"
      ],
      "metadata": {
        "colab": {
          "base_uri": "https://localhost:8080/"
        },
        "id": "8JL_zHm-qmPu",
        "outputId": "793ff009-b84b-469c-c8cf-3d4ac68bec9a"
      },
      "execution_count": 39,
      "outputs": [
        {
          "output_type": "execute_result",
          "data": {
            "text/plain": [
              "18"
            ]
          },
          "metadata": {},
          "execution_count": 39
        }
      ]
    },
    {
      "cell_type": "code",
      "source": [
        "lexicon"
      ],
      "metadata": {
        "colab": {
          "base_uri": "https://localhost:8080/"
        },
        "id": "fO-C2s5KqoHD",
        "outputId": "4f874b3a-3732-4353-93c8-2892ddc4b7f7"
      },
      "execution_count": 40,
      "outputs": [
        {
          "output_type": "execute_result",
          "data": {
            "text/plain": [
              "[',',\n",
              " '.',\n",
              " 'and',\n",
              " 'as',\n",
              " 'faster',\n",
              " 'get',\n",
              " 'got',\n",
              " 'hairy',\n",
              " 'harry',\n",
              " 'home',\n",
              " 'is',\n",
              " 'jill',\n",
              " 'not',\n",
              " 'store',\n",
              " 'than',\n",
              " 'the',\n",
              " 'to',\n",
              " 'would']"
            ]
          },
          "metadata": {},
          "execution_count": 40
        }
      ]
    },
    {
      "cell_type": "code",
      "source": [
        "from collections import OrderedDict"
      ],
      "metadata": {
        "id": "XwwJKv1MqpN1"
      },
      "execution_count": 41,
      "outputs": []
    },
    {
      "cell_type": "code",
      "source": [
        "zero_vector = OrderedDict((token,0) for token in lexicon)"
      ],
      "metadata": {
        "id": "fomqCjYIqw6m"
      },
      "execution_count": 42,
      "outputs": []
    },
    {
      "cell_type": "code",
      "source": [
        "zero_vector"
      ],
      "metadata": {
        "colab": {
          "base_uri": "https://localhost:8080/"
        },
        "id": "CQAdHrntq337",
        "outputId": "b40c7e65-7cf4-4904-a352-6a9353b60776"
      },
      "execution_count": 43,
      "outputs": [
        {
          "output_type": "execute_result",
          "data": {
            "text/plain": [
              "OrderedDict([(',', 0),\n",
              "             ('.', 0),\n",
              "             ('and', 0),\n",
              "             ('as', 0),\n",
              "             ('faster', 0),\n",
              "             ('get', 0),\n",
              "             ('got', 0),\n",
              "             ('hairy', 0),\n",
              "             ('harry', 0),\n",
              "             ('home', 0),\n",
              "             ('is', 0),\n",
              "             ('jill', 0),\n",
              "             ('not', 0),\n",
              "             ('store', 0),\n",
              "             ('than', 0),\n",
              "             ('the', 0),\n",
              "             ('to', 0),\n",
              "             ('would', 0)])"
            ]
          },
          "metadata": {},
          "execution_count": 43
        }
      ]
    },
    {
      "cell_type": "code",
      "source": [
        "import copy\n",
        "\n",
        "doc_vectors = []\n",
        "for doc in docs:\n",
        "  vec = copy.copy(zero_vector)\n",
        "  tokens = tokenizer.tokenize(doc.lower())\n",
        "  token_counts = Counter(tokens)\n",
        "  for k,v in token_counts.items():\n",
        "    vec[k] = value/len(lexicon)\n",
        "  doc_vectors.append(vec)"
      ],
      "metadata": {
        "id": "883-tCtwq5MG"
      },
      "execution_count": 44,
      "outputs": []
    },
    {
      "cell_type": "code",
      "source": [
        "doc_vectors"
      ],
      "metadata": {
        "colab": {
          "base_uri": "https://localhost:8080/"
        },
        "id": "sbloC9borXZL",
        "outputId": "d49c1676-37d5-4230-f680-0eda634a93cc"
      },
      "execution_count": 45,
      "outputs": [
        {
          "output_type": "execute_result",
          "data": {
            "text/plain": [
              "[OrderedDict([(',', 0.05555555555555555),\n",
              "              ('.', 0.05555555555555555),\n",
              "              ('and', 0.05555555555555555),\n",
              "              ('as', 0),\n",
              "              ('faster', 0.05555555555555555),\n",
              "              ('get', 0.05555555555555555),\n",
              "              ('got', 0.05555555555555555),\n",
              "              ('hairy', 0),\n",
              "              ('harry', 0.05555555555555555),\n",
              "              ('home', 0.05555555555555555),\n",
              "              ('is', 0),\n",
              "              ('jill', 0),\n",
              "              ('not', 0),\n",
              "              ('store', 0.05555555555555555),\n",
              "              ('than', 0),\n",
              "              ('the', 0.05555555555555555),\n",
              "              ('to', 0.05555555555555555),\n",
              "              ('would', 0.05555555555555555)]),\n",
              " OrderedDict([(',', 0),\n",
              "              ('.', 0.05555555555555555),\n",
              "              ('and', 0.05555555555555555),\n",
              "              ('as', 0),\n",
              "              ('faster', 0.05555555555555555),\n",
              "              ('get', 0),\n",
              "              ('got', 0),\n",
              "              ('hairy', 0.05555555555555555),\n",
              "              ('harry', 0.05555555555555555),\n",
              "              ('home', 0),\n",
              "              ('is', 0.05555555555555555),\n",
              "              ('jill', 0.05555555555555555),\n",
              "              ('not', 0),\n",
              "              ('store', 0),\n",
              "              ('than', 0.05555555555555555),\n",
              "              ('the', 0),\n",
              "              ('to', 0),\n",
              "              ('would', 0)]),\n",
              " OrderedDict([(',', 0),\n",
              "              ('.', 0.05555555555555555),\n",
              "              ('and', 0),\n",
              "              ('as', 0.05555555555555555),\n",
              "              ('faster', 0),\n",
              "              ('get', 0),\n",
              "              ('got', 0),\n",
              "              ('hairy', 0.05555555555555555),\n",
              "              ('harry', 0.05555555555555555),\n",
              "              ('home', 0),\n",
              "              ('is', 0.05555555555555555),\n",
              "              ('jill', 0.05555555555555555),\n",
              "              ('not', 0.05555555555555555),\n",
              "              ('store', 0),\n",
              "              ('than', 0),\n",
              "              ('the', 0),\n",
              "              ('to', 0),\n",
              "              ('would', 0)])]"
            ]
          },
          "metadata": {},
          "execution_count": 45
        }
      ]
    },
    {
      "cell_type": "code",
      "source": [
        "nltk.download(\"brown\")"
      ],
      "metadata": {
        "colab": {
          "base_uri": "https://localhost:8080/"
        },
        "id": "jYeVpP03rdEA",
        "outputId": "6fd69715-9770-4222-9f50-5cd5ca38a756"
      },
      "execution_count": 46,
      "outputs": [
        {
          "output_type": "stream",
          "name": "stderr",
          "text": [
            "[nltk_data] Downloading package brown to /root/nltk_data...\n",
            "[nltk_data]   Unzipping corpora/brown.zip.\n"
          ]
        },
        {
          "output_type": "execute_result",
          "data": {
            "text/plain": [
              "True"
            ]
          },
          "metadata": {},
          "execution_count": 46
        }
      ]
    },
    {
      "cell_type": "code",
      "source": [
        "from nltk.corpus import brown"
      ],
      "metadata": {
        "id": "y6kpMn3Ptt5T"
      },
      "execution_count": 47,
      "outputs": []
    },
    {
      "cell_type": "code",
      "source": [
        "brown.words()[:10]"
      ],
      "metadata": {
        "colab": {
          "base_uri": "https://localhost:8080/"
        },
        "id": "vQVyduzDtxFj",
        "outputId": "31569f90-a970-4b93-f8df-5c4e0a2530c2"
      },
      "execution_count": 48,
      "outputs": [
        {
          "output_type": "execute_result",
          "data": {
            "text/plain": [
              "['The',\n",
              " 'Fulton',\n",
              " 'County',\n",
              " 'Grand',\n",
              " 'Jury',\n",
              " 'said',\n",
              " 'Friday',\n",
              " 'an',\n",
              " 'investigation',\n",
              " 'of']"
            ]
          },
          "metadata": {},
          "execution_count": 48
        }
      ]
    },
    {
      "cell_type": "code",
      "source": [
        "brown.tagged_words()[:5]"
      ],
      "metadata": {
        "colab": {
          "base_uri": "https://localhost:8080/"
        },
        "id": "3Q_0TjcHt0xe",
        "outputId": "68d79fc5-c7f0-4289-d59f-8ea0e93c946e"
      },
      "execution_count": 49,
      "outputs": [
        {
          "output_type": "execute_result",
          "data": {
            "text/plain": [
              "[('The', 'AT'),\n",
              " ('Fulton', 'NP-TL'),\n",
              " ('County', 'NN-TL'),\n",
              " ('Grand', 'JJ-TL'),\n",
              " ('Jury', 'NN-TL')]"
            ]
          },
          "metadata": {},
          "execution_count": 49
        }
      ]
    },
    {
      "cell_type": "code",
      "source": [
        "len(brown.words())"
      ],
      "metadata": {
        "colab": {
          "base_uri": "https://localhost:8080/"
        },
        "id": "Qio3nU5Zt4Y4",
        "outputId": "96759e0f-a729-4071-fbc0-e5cfd73dd8d6"
      },
      "execution_count": 50,
      "outputs": [
        {
          "output_type": "execute_result",
          "data": {
            "text/plain": [
              "1161192"
            ]
          },
          "metadata": {},
          "execution_count": 50
        }
      ]
    },
    {
      "cell_type": "code",
      "source": [
        "from collections import Counter\n",
        "puncs = set((',','.','--','-','!','?',':',';','``','(',\"''\",')','[',']'))"
      ],
      "metadata": {
        "id": "mkaom1ECt7n_"
      },
      "execution_count": 51,
      "outputs": []
    },
    {
      "cell_type": "code",
      "source": [
        "word_list = (x.lower() for x in brown.words() if x not in puncs)"
      ],
      "metadata": {
        "id": "_CPw7Vf4uUZY"
      },
      "execution_count": 52,
      "outputs": []
    },
    {
      "cell_type": "code",
      "source": [
        "token_counts = Counter(word_list)"
      ],
      "metadata": {
        "id": "lHVY1jr2ucXQ"
      },
      "execution_count": 53,
      "outputs": []
    },
    {
      "cell_type": "code",
      "source": [
        "token_counts.most_common(20)"
      ],
      "metadata": {
        "colab": {
          "base_uri": "https://localhost:8080/"
        },
        "id": "IEiIqZ4WuhCe",
        "outputId": "218a41ae-fcc1-4c5f-aa7c-5d20a49777cb"
      },
      "execution_count": 54,
      "outputs": [
        {
          "output_type": "execute_result",
          "data": {
            "text/plain": [
              "[('the', 69971),\n",
              " ('of', 36412),\n",
              " ('and', 28853),\n",
              " ('to', 26158),\n",
              " ('a', 23195),\n",
              " ('in', 21337),\n",
              " ('that', 10594),\n",
              " ('is', 10109),\n",
              " ('was', 9815),\n",
              " ('he', 9548),\n",
              " ('for', 9489),\n",
              " ('it', 8760),\n",
              " ('with', 7289),\n",
              " ('as', 7253),\n",
              " ('his', 6996),\n",
              " ('on', 6741),\n",
              " ('be', 6377),\n",
              " ('at', 5372),\n",
              " ('by', 5306),\n",
              " ('i', 5164)]"
            ]
          },
          "metadata": {},
          "execution_count": 54
        }
      ]
    },
    {
      "cell_type": "code",
      "source": [
        "kite_history = \"\"\"The kite has been claimed as the invention of the 5th-century BC Chinese philosophers Mozi (also Mo Di, or Mo Ti) and Lu Ban (also Gongshu Ban, or Kungshu Phan). Materials ideal for kite building were readily available including silk fabric for sail material; fine, high-tensile-strength silk for flying line; and resilient bamboo for a strong, lightweight framework. By 549 AD, paper kites were certainly being flown, as it was recorded that in that year a paper kite was used as a message for a rescue mission. Ancient and medieval Chinese sources describe kites being used for measuring distances, testing the wind, lifting men, signaling, and communication for military operations. The earliest known Chinese kites were flat (not bowed) and often rectangular. Later, tailless kites incorporated a stabilizing bowline. Kites were decorated with mythological motifs and legendary figures; some were fitted with strings and whistles to make musical sounds while flying.\n",
        "Kite Flying by Suzuki Harunobu, 1766 (Metropolitan Museum of Art)\n",
        "After its introduction into India, the kite further evolved into the fighter kite, known as the patang in India, where thousands are flown every year on festivals such as Makar Sankranti.\n",
        "Kites were known throughout Polynesia, as far as New Zealand, with the assumption being that the knowledge diffused from China along with the people. Anthropomorphic kites made from cloth and wood were used in religious ceremonies to send prayers to the gods. Polynesian kite traditions are used by anthropologists to get an idea of early \"primitive\" Asian traditions that are believed to have at one time existed in Asia.\"\"\""
      ],
      "metadata": {
        "id": "Rg5FA1ZEumRf"
      },
      "execution_count": 56,
      "outputs": []
    },
    {
      "cell_type": "code",
      "source": [
        "kite_intro = kite_text.lower()\n",
        "intro_tokens = tokenizer.tokenize(kite_intro)"
      ],
      "metadata": {
        "id": "XjEFcjRau962"
      },
      "execution_count": 57,
      "outputs": []
    },
    {
      "cell_type": "code",
      "source": [
        "kite_history = kite_history.lower()\n",
        "history_tokens = tokenizer.tokenize(kite_history)"
      ],
      "metadata": {
        "id": "--2AiDuwvaC2"
      },
      "execution_count": 58,
      "outputs": []
    },
    {
      "cell_type": "code",
      "source": [
        "intro_total = len(intro_tokens)\n",
        "intro_total"
      ],
      "metadata": {
        "colab": {
          "base_uri": "https://localhost:8080/"
        },
        "id": "wl9iXxp7vjUd",
        "outputId": "7335ffd4-d5f2-4da7-ba31-45b577931f83"
      },
      "execution_count": 59,
      "outputs": [
        {
          "output_type": "execute_result",
          "data": {
            "text/plain": [
              "332"
            ]
          },
          "metadata": {},
          "execution_count": 59
        }
      ]
    },
    {
      "cell_type": "code",
      "source": [
        "history_total = len(history_tokens)\n",
        "history_total"
      ],
      "metadata": {
        "colab": {
          "base_uri": "https://localhost:8080/"
        },
        "id": "SktZ6vcwvpUT",
        "outputId": "eb378e64-0551-4944-c6c6-aa0a2dc2776a"
      },
      "execution_count": 60,
      "outputs": [
        {
          "output_type": "execute_result",
          "data": {
            "text/plain": [
              "293"
            ]
          },
          "metadata": {},
          "execution_count": 60
        }
      ]
    },
    {
      "cell_type": "code",
      "source": [
        "intro_tf = {}\n",
        "history_tf = {}"
      ],
      "metadata": {
        "id": "fuyFS_tCvunH"
      },
      "execution_count": 61,
      "outputs": []
    },
    {
      "cell_type": "code",
      "source": [
        "intro_counts = Counter(intro_tokens)\n",
        "intro_tf['kite'] = intro_counts[\"kite\"]/intro_total"
      ],
      "metadata": {
        "id": "GDvzNQ2xvy9k"
      },
      "execution_count": 62,
      "outputs": []
    },
    {
      "cell_type": "code",
      "source": [
        "history_counts = Counter(history_tokens)\n",
        "history_tf[\"kite\"] = history_counts[\"kite\"]/history_total"
      ],
      "metadata": {
        "id": "8GUkDsQVv9DS"
      },
      "execution_count": 63,
      "outputs": []
    },
    {
      "cell_type": "code",
      "source": [
        "intro_tf"
      ],
      "metadata": {
        "colab": {
          "base_uri": "https://localhost:8080/"
        },
        "id": "oe5QMa7nwGbp",
        "outputId": "5b675615-c132-4061-a2ac-7f34e2ca7e58"
      },
      "execution_count": 64,
      "outputs": [
        {
          "output_type": "execute_result",
          "data": {
            "text/plain": [
              "{'kite': 0.04216867469879518}"
            ]
          },
          "metadata": {},
          "execution_count": 64
        }
      ]
    },
    {
      "cell_type": "code",
      "source": [
        "history_tf"
      ],
      "metadata": {
        "colab": {
          "base_uri": "https://localhost:8080/"
        },
        "id": "QtyaDJFQwLGh",
        "outputId": "f96f3062-1fdb-457a-82a5-f1b521e78c10"
      },
      "execution_count": 65,
      "outputs": [
        {
          "output_type": "execute_result",
          "data": {
            "text/plain": [
              "{'kite': 0.023890784982935155}"
            ]
          },
          "metadata": {},
          "execution_count": 65
        }
      ]
    },
    {
      "cell_type": "code",
      "source": [
        "intro_tf['and'] = intro_counts[\"and\"]/intro_total\n",
        "history_tf[\"and\"] = history_counts[\"and\"]/history_total"
      ],
      "metadata": {
        "id": "891C498bwNOu"
      },
      "execution_count": 66,
      "outputs": []
    },
    {
      "cell_type": "code",
      "source": [
        "intro_tf"
      ],
      "metadata": {
        "colab": {
          "base_uri": "https://localhost:8080/"
        },
        "id": "9Iazil9swYFo",
        "outputId": "1b5a74a3-fa88-4f39-d560-77dffaca9b89"
      },
      "execution_count": 67,
      "outputs": [
        {
          "output_type": "execute_result",
          "data": {
            "text/plain": [
              "{'kite': 0.04216867469879518, 'and': 0.03614457831325301}"
            ]
          },
          "metadata": {},
          "execution_count": 67
        }
      ]
    },
    {
      "cell_type": "code",
      "source": [
        "history_tf"
      ],
      "metadata": {
        "colab": {
          "base_uri": "https://localhost:8080/"
        },
        "id": "WeImC-kPwZ96",
        "outputId": "b211414b-9891-47f7-cb96-e7b843360c1e"
      },
      "execution_count": 68,
      "outputs": [
        {
          "output_type": "execute_result",
          "data": {
            "text/plain": [
              "{'kite': 0.023890784982935155, 'and': 0.027303754266211604}"
            ]
          },
          "metadata": {},
          "execution_count": 68
        }
      ]
    },
    {
      "cell_type": "code",
      "source": [
        "num_docs_containing_and = 0\n",
        "for doc in [intro_tokens, history_tokens]:\n",
        "  if \"and\" in doc:\n",
        "    num_docs_containing_and += 1"
      ],
      "metadata": {
        "id": "3N5OXYRFwbW1"
      },
      "execution_count": 69,
      "outputs": []
    },
    {
      "cell_type": "code",
      "source": [
        "intro_tf['china'] = intro_counts[\"china\"]/intro_total\n",
        "history_tf[\"china\"] = history_counts[\"china\"]/history_total"
      ],
      "metadata": {
        "id": "AAmlrypkw8Eq"
      },
      "execution_count": 70,
      "outputs": []
    },
    {
      "cell_type": "code",
      "source": [
        "num_docs_containing_kite = 0\n",
        "for doc in [intro_tokens, history_tokens]:\n",
        "  if \"kite\" in doc:\n",
        "    num_docs_containing_kite += 1"
      ],
      "metadata": {
        "id": "vFGmZrV2xTv1"
      },
      "execution_count": 71,
      "outputs": []
    },
    {
      "cell_type": "code",
      "source": [
        "num_docs_containing_china = 0\n",
        "for doc in [intro_tokens, history_tokens]:\n",
        "  if \"china\" in doc:\n",
        "    num_docs_containing_china += 1"
      ],
      "metadata": {
        "id": "naLtOSjGxXBo"
      },
      "execution_count": 72,
      "outputs": []
    },
    {
      "cell_type": "code",
      "source": [
        "num_docs = 2\n",
        "intro_idf = {}\n",
        "history_idf = {}\n",
        "\n",
        "intro_idf[\"and\"] = num_docs / num_docs_containing_and\n",
        "history_idf[\"and\"] = num_docs/ num_docs_containing_and\n",
        "intro_idf[\"kite\"] = num_docs / num_docs_containing_kite\n",
        "history_idf[\"kite\"] = num_docs/ num_docs_containing_kite\n",
        "intro_idf[\"china\"] = num_docs / num_docs_containing_china\n",
        "history_idf[\"china\"] = num_docs/ num_docs_containing_china"
      ],
      "metadata": {
        "id": "MIUVJGqmxCIZ"
      },
      "execution_count": 73,
      "outputs": []
    },
    {
      "cell_type": "code",
      "source": [
        "intro_tf_idf = {}\n",
        "\n",
        "intro_tf_idf[\"and\"] = intro_tf[\"and\"] * intro_idf[\"and\"]\n",
        "intro_tf_idf[\"kite\"] = intro_tf[\"kite\"] * intro_idf[\"kite\"]\n",
        "intro_tf_idf[\"china\"] = intro_tf[\"china\"] * intro_idf[\"china\"]"
      ],
      "metadata": {
        "id": "L_4tazk-xqW-"
      },
      "execution_count": 74,
      "outputs": []
    },
    {
      "cell_type": "code",
      "source": [
        "history_tf_idf = {}\n",
        "\n",
        "history_tf_idf[\"and\"] = history_tf[\"and\"] * history_idf[\"and\"]\n",
        "history_tf_idf[\"kite\"] = history_tf[\"kite\"] * history_idf[\"kite\"]\n",
        "history_tf_idf[\"china\"] = history_tf[\"china\"] * history_idf[\"china\"]"
      ],
      "metadata": {
        "id": "Fy-q6Guwx4uw"
      },
      "execution_count": 75,
      "outputs": []
    },
    {
      "cell_type": "code",
      "source": [
        "document_tf_idf_vectors = []"
      ],
      "metadata": {
        "id": "qnP5IcsjyCq2"
      },
      "execution_count": 86,
      "outputs": []
    },
    {
      "cell_type": "code",
      "source": [
        "for doc in docs:\n",
        "  vec = copy.copy(zero_vector)\n",
        "  tokens = tokenizer.tokenize(doc.lower())\n",
        "  token_counts = Counter(tokens)\n",
        "\n",
        "  for key, value in token_counts.items():\n",
        "    docs_containing_key = 0\n",
        "    for _doc in docs:\n",
        "      if key in _doc:\n",
        "        docs_containing_key += 1\n",
        "    tf = value/len(lexicon)\n",
        "    if docs_containing_key:\n",
        "      idf = len(docs) / docs_containing_key\n",
        "    else:\n",
        "      idf = 0\n",
        "    vec[key] = tf*idf\n",
        "  document_tf_idf_vectors.append(vec)"
      ],
      "metadata": {
        "id": "RwtCJ_1HyFiz"
      },
      "execution_count": 87,
      "outputs": []
    },
    {
      "cell_type": "code",
      "source": [
        "query = \"How long does it take to get to the store?\""
      ],
      "metadata": {
        "id": "9NsC3RpOzzKJ"
      },
      "execution_count": 89,
      "outputs": []
    },
    {
      "cell_type": "code",
      "source": [
        "query_vec = copy.copy(zero_vector)"
      ],
      "metadata": {
        "id": "p2gWp0a60wmw"
      },
      "execution_count": 90,
      "outputs": []
    },
    {
      "cell_type": "code",
      "source": [
        "tokens = tokenizer.tokenize(query.lower())"
      ],
      "metadata": {
        "id": "mk24iP8_00ch"
      },
      "execution_count": 91,
      "outputs": []
    },
    {
      "cell_type": "code",
      "source": [
        "token_counts = Counter(tokens)"
      ],
      "metadata": {
        "id": "dne02AYo04Z5"
      },
      "execution_count": 92,
      "outputs": []
    },
    {
      "cell_type": "code",
      "source": [
        "for key,value in token_counts.items():\n",
        "  docs_containing_key = 0\n",
        "  for _doc in docs:\n",
        "    if key in _doc.lower():\n",
        "      docs_containing_key += 1\n",
        "    if docs_containing_key == 0:\n",
        "      continue\n",
        "    tf = value / len(tokens)\n",
        "    idf = len(docs)/docs_containing_key\n",
        "  query_vec[key] = tf * idf"
      ],
      "metadata": {
        "id": "8d313xgD06z5"
      },
      "execution_count": 93,
      "outputs": []
    },
    {
      "cell_type": "code",
      "source": [
        "import numpy as np"
      ],
      "metadata": {
        "id": "t-yD1Y7f1hH6"
      },
      "execution_count": 94,
      "outputs": []
    },
    {
      "cell_type": "code",
      "source": [
        "from sklearn.feature_extraction.text import TfidfVectorizer"
      ],
      "metadata": {
        "id": "2FcpJTS01m4w"
      },
      "execution_count": 95,
      "outputs": []
    },
    {
      "cell_type": "code",
      "source": [
        "corpus = docs"
      ],
      "metadata": {
        "id": "UplqZDUB2Khr"
      },
      "execution_count": 96,
      "outputs": []
    },
    {
      "cell_type": "code",
      "source": [
        "vectorizer = TfidfVectorizer(min_df=1)"
      ],
      "metadata": {
        "id": "LpNdrJyY2LuT"
      },
      "execution_count": 97,
      "outputs": []
    },
    {
      "cell_type": "code",
      "source": [
        "model = vectorizer.fit_transform(corpus)"
      ],
      "metadata": {
        "id": "wjmcBHgX2Pyp"
      },
      "execution_count": 98,
      "outputs": []
    },
    {
      "cell_type": "code",
      "source": [
        "print(model.todense().round(2))"
      ],
      "metadata": {
        "colab": {
          "base_uri": "https://localhost:8080/"
        },
        "id": "urjU9yXL2Tqq",
        "outputId": "4ee8c2c5-b154-4a41-a6ab-c325a4d29d64"
      },
      "execution_count": 99,
      "outputs": [
        {
          "output_type": "stream",
          "name": "stdout",
          "text": [
            "[[0.16 0.   0.48 0.21 0.21 0.   0.25 0.21 0.   0.   0.   0.21 0.   0.64\n",
            "  0.21 0.21]\n",
            " [0.37 0.   0.37 0.   0.   0.37 0.29 0.   0.37 0.37 0.   0.   0.49 0.\n",
            "  0.   0.  ]\n",
            " [0.   0.75 0.   0.   0.   0.29 0.22 0.   0.29 0.29 0.38 0.   0.   0.\n",
            "  0.   0.  ]]\n"
          ]
        }
      ]
    },
    {
      "cell_type": "code",
      "source": [],
      "metadata": {
        "id": "6JEmOIRK2ZDl"
      },
      "execution_count": null,
      "outputs": []
    }
  ]
}